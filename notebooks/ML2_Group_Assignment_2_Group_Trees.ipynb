{
  "nbformat": 4,
  "nbformat_minor": 0,
  "metadata": {
    "colab": {
      "provenance": []
    },
    "kernelspec": {
      "name": "python3",
      "display_name": "Python 3"
    },
    "language_info": {
      "name": "python"
    }
  },
  "cells": [
    {
      "cell_type": "markdown",
      "source": [
        "# AISC2000 - Group Trees - Assignment 2 Task Distribution and Status\n",
        "\n",
        "| Task | Status | Results | Individual Responsible |\n",
        "|:---|:---|:---|:---|\n",
        "| Data Preprocessing & Feature Engineering<br /><br /><br /><br /><br /><br /> SVM Feature Engineering | Negation Handled?<br /><br /> Train and Test Split Handled Correctly?<br /><br /> Class Separability Checked?<br /><br /><br /> Categorical/Numerical Features Added? | # of negation patterns handled?<br /><br /> Steps taken before and after train test split<br /><br /> Feature set with best separability?<br /><br /><br /> Name 2 features added? | SUBHASH PAVAN CHAKRAVARTHY SOMAROUTHU |\n",
        "| SVM model with Unigram+CountVectors | Config of the model trained | Train Time = ? | SANGEETH KUMARASINGHE |\n",
        "| SVM Training Data Check<br /><br /> SVM Testing Data Check | Confusion Matrix Built?<br /><br /> AUC plotted?<br /><br /> Accuracy computed? | F1 Score for Positive = ?<br /><br /> F1 Score for Negative = ?<br /><br /> AUC = ?<br /><br /> Accuracy = ? | GOKUL KRISHNA POURNAMI GOPI |\n",
        "| SVM Cross Validation<br /><br />Naive Bayes Cross Validation | Type of Cross Validation performed? | Findings of Cross Validation? | APARNA JAYAKUMAR RESMI |\n",
        "| SVM Interpretability | Interpretability Implemented?<br /><br /> Local or Global? | 2 interesting findings? | AMRUTH RAJ MANCHIKANTI |SANGEETH KUMARASINGHE |\n",
        "| Naive Bayes Model with One-Hot vectors and Unigram+Bigram<br /><br /><br /> Naive Bayes Next Steps | Type of Smoothing Used? Config of model trained?<br /><br /><br /><br /> | Train Time = ?<br /><br /><br />List out 2-3 possible next steps for Naive Bayes Models | OBIANUJU NONYEREM ANUMA |\n",
        "| Naive Bayes Training Data Check<br /><br /> Naive Bayes Testing Data Check<br /><br /> HTML Submission | Confusion Matrix Built?<br /><br />  AUC plotted?<br /><br /> Accuracy computed? | F1 Score for Positive = ?<br /><br /> F1 Score for Negative = ?<br /><br /> AUC = ?<br /><br /> Accuracy = ? | KANIKA |\n",
        "| Naive Bayes Feature Engineering<br /><br /> Review of Entire Notebook and Comments Checking | Feature Weightages Added? | 2 Features with the Highest Weights? | CLIFFORD ADDISON |\n",
        "| Comparative Analysis (SVM vs. Naive Bayes) | Compare performance and characteristics of both models. | Findings of Comparative Analysis. | ABDULLAH IFTEQAR MOHAMMED |\n",
        "| Feature Importance Analysis | Analyze feature importance for both models | Key predictors identified? | MUKUL GARG |\n",
        "\n",
        "## Collaborative Responsibilities\n",
        "- Please note these instructions:\n",
        "\n",
        "1. **'Make sure to tune your models extensively and explain your rationale for the tuning approaches used each iteration'**\n",
        "2. **'Do call out what else could be done to tune the model and how it would have helped (w/ some numbers) at the top/bottom of your notebook.'**\n",
        "3. **'Please make sure there are enough data points in the test set (>5000) for Confusion Matrix, AUC etc.'**"
      ],
      "metadata": {
        "id": "bu1jgTZxJMNa"
      }
    },
    {
      "cell_type": "code",
      "execution_count": null,
      "metadata": {
        "id": "q33pVT9tI_Ty"
      },
      "outputs": [],
      "source": []
    }
  ]
}